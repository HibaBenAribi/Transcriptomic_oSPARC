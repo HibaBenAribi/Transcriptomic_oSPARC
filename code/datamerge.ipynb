{
 "cells": [
  {
   "cell_type": "markdown",
   "metadata": {},
   "source": [
    "\n",
    "  \n"
   ]
  },
  {
   "cell_type": "code",
   "execution_count": 20,
   "metadata": {},
   "outputs": [
    {
     "name": "stdout",
     "output_type": "stream",
     "text": [
      "Requirement already satisfied: pip in /opt/conda/lib/python3.7/site-packages (22.2.2)\n",
      "Requirement already satisfied: pandas in /opt/conda/lib/python3.7/site-packages (1.3.5)\n",
      "Requirement already satisfied: numpy>=1.17.3 in /opt/conda/lib/python3.7/site-packages (from pandas) (1.20.3)\n",
      "Requirement already satisfied: pytz>=2017.3 in /opt/conda/lib/python3.7/site-packages (from pandas) (2021.1)\n",
      "Requirement already satisfied: python-dateutil>=2.7.3 in /opt/conda/lib/python3.7/site-packages (from pandas) (2.8.1)\n",
      "Requirement already satisfied: six>=1.5 in /opt/conda/lib/python3.7/site-packages (from python-dateutil>=2.7.3->pandas) (1.14.0)\n",
      "Requirement already satisfied: matplotlib_venn in /opt/conda/lib/python3.7/site-packages (0.11.7)\n",
      "Requirement already satisfied: scipy in /opt/conda/lib/python3.7/site-packages (from matplotlib_venn) (1.7.3)\n",
      "Requirement already satisfied: numpy in /opt/conda/lib/python3.7/site-packages (from matplotlib_venn) (1.20.3)\n",
      "Requirement already satisfied: matplotlib in /opt/conda/lib/python3.7/site-packages (from matplotlib_venn) (3.4.2)\n",
      "Requirement already satisfied: pyparsing>=2.2.1 in /opt/conda/lib/python3.7/site-packages (from matplotlib->matplotlib_venn) (2.4.7)\n",
      "Requirement already satisfied: cycler>=0.10 in /opt/conda/lib/python3.7/site-packages (from matplotlib->matplotlib_venn) (0.10.0)\n",
      "Requirement already satisfied: pillow>=6.2.0 in /opt/conda/lib/python3.7/site-packages (from matplotlib->matplotlib_venn) (8.2.0)\n",
      "Requirement already satisfied: kiwisolver>=1.0.1 in /opt/conda/lib/python3.7/site-packages (from matplotlib->matplotlib_venn) (1.3.1)\n",
      "Requirement already satisfied: python-dateutil>=2.7 in /opt/conda/lib/python3.7/site-packages (from matplotlib->matplotlib_venn) (2.8.1)\n",
      "Requirement already satisfied: six in /opt/conda/lib/python3.7/site-packages (from cycler>=0.10->matplotlib->matplotlib_venn) (1.14.0)\n",
      "Collecting seaborn\n",
      "  Downloading seaborn-0.11.2-py3-none-any.whl (292 kB)\n",
      "\u001b[2K     \u001b[90m━━━━━━━━━━━━━━━━━━━━━━━━━━━━━━━━━━━━━━\u001b[0m \u001b[32m292.8/292.8 kB\u001b[0m \u001b[31m26.0 MB/s\u001b[0m eta \u001b[36m0:00:00\u001b[0m\n",
      "\u001b[?25hRequirement already satisfied: numpy>=1.15 in /opt/conda/lib/python3.7/site-packages (from seaborn) (1.20.3)\n",
      "Requirement already satisfied: matplotlib>=2.2 in /opt/conda/lib/python3.7/site-packages (from seaborn) (3.4.2)\n",
      "Requirement already satisfied: pandas>=0.23 in /opt/conda/lib/python3.7/site-packages (from seaborn) (1.3.5)\n",
      "Requirement already satisfied: scipy>=1.0 in /opt/conda/lib/python3.7/site-packages (from seaborn) (1.7.3)\n",
      "Requirement already satisfied: python-dateutil>=2.7 in /opt/conda/lib/python3.7/site-packages (from matplotlib>=2.2->seaborn) (2.8.1)\n",
      "Requirement already satisfied: cycler>=0.10 in /opt/conda/lib/python3.7/site-packages (from matplotlib>=2.2->seaborn) (0.10.0)\n",
      "Requirement already satisfied: kiwisolver>=1.0.1 in /opt/conda/lib/python3.7/site-packages (from matplotlib>=2.2->seaborn) (1.3.1)\n",
      "Requirement already satisfied: pyparsing>=2.2.1 in /opt/conda/lib/python3.7/site-packages (from matplotlib>=2.2->seaborn) (2.4.7)\n",
      "Requirement already satisfied: pillow>=6.2.0 in /opt/conda/lib/python3.7/site-packages (from matplotlib>=2.2->seaborn) (8.2.0)\n",
      "Requirement already satisfied: pytz>=2017.3 in /opt/conda/lib/python3.7/site-packages (from pandas>=0.23->seaborn) (2021.1)\n",
      "Requirement already satisfied: six in /opt/conda/lib/python3.7/site-packages (from cycler>=0.10->matplotlib>=2.2->seaborn) (1.14.0)\n",
      "Installing collected packages: seaborn\n",
      "Successfully installed seaborn-0.11.2\n"
     ]
    }
   ],
   "source": [
    "# You might need to re rerun this cell, if you see killed  at end of outcome of this cell\n",
    "!pip install --upgrade pip\n",
    "!pip install pandas\n",
    "!pip install seaborn"
   ]
  },
  {
   "cell_type": "code",
   "execution_count": 21,
   "metadata": {},
   "outputs": [],
   "source": [
    "%matplotlib inline\n",
    "from simcore_sdk import node_ports\n",
    "import pandas as pd\n",
    "import seaborn as sns\n",
    "import numpy as np\n",
    "from pylab import *\n"
   ]
  },
  {
   "cell_type": "code",
   "execution_count": 40,
   "metadata": {},
   "outputs": [],
   "source": [
    "rcParams[\"figure.figsize\"] = 15,15"
   ]
  },
  {
   "cell_type": "code",
   "execution_count": 7,
   "metadata": {},
   "outputs": [
    {
     "name": "stderr",
     "output_type": "stream",
     "text": [
      "downloading /tmp/simcorefiles/outFile/DATASET1.csv [837044 bytes]: 100%|██████████| 837k/837k [00:00<00:00, 73.5Mbyte/s]\n",
      "downloading /tmp/simcorefiles/outFile/DATASET2.csv [751838 bytes]: 100%|██████████| 752k/752k [00:00<00:00, 138Mbyte/s]\n"
     ]
    }
   ],
   "source": [
    "PORTS = await node_ports.ports()\n",
    "input_1 = await (await PORTS.inputs)[0].get()\n",
    "input_2 = await (await PORTS.inputs)[1].get()"
   ]
  },
  {
   "cell_type": "code",
   "execution_count": 12,
   "metadata": {},
   "outputs": [],
   "source": [
    "pvalue = 0.05\n",
    "logFC = 0\n",
    "data1 = pd.read_csv(input_1)\n",
    "data1[\"expression\"] = \"Not differentially expressed\"\n",
    "data1.loc[((data1[\"P.Value\"]<pvalue) &(data1[\"Log FC\"]>logFC)), \"expression\"]= \"Down regulated\"\n",
    "data1.loc[((data1[\"P.Value\"]<pvalue) &(data1[\"Log FC\"]< -1*logFC)), \"expression\"]= \"Up regulated\"\n",
    "data1 = data1.rename(columns={\"P.Value\":\"data1_P.Value\",\"Log FC\":\"data1_Log FC\",\"expression\":\"data1_expression\"})\n",
    "\n",
    "\n",
    "\n",
    "data2 = pd.read_csv(input_2)\n",
    "data2[\"expression\"] = \"Not differentially expressed\"\n",
    "data2.loc[((data2[\"P.Value\"]<pvalue) &(data2[\"Log FC\"]>logFC)), \"expression\"]= \"Down regulated\"\n",
    "data2.loc[((data2[\"P.Value\"]<pvalue) &(data2[\"Log FC\"]< -1*logFC)), \"expression\"]= \"Up regulated\"\n",
    "data2 = data2.rename(columns={\"P.Value\":\"data2_P.Value\",\"Log FC\":\"data2_Log FC\",\"expression\":\"data2_expression\"})"
   ]
  },
  {
   "cell_type": "code",
   "execution_count": 14,
   "metadata": {},
   "outputs": [],
   "source": [
    "merged_data = data1.merge(data2, on=\"Gene\")\n",
    "merged_data.to_csv(\"Merged.csv\", index=False)"
   ]
  },
  {
   "cell_type": "code",
   "execution_count": 18,
   "metadata": {},
   "outputs": [],
   "source": [
    "compare = merged_data.groupby([\"data1_expression\", \"data2_expression\"]).size().reset_index().pivot_table(index=\"data1_expression\", columns=\"data2_expression\", values=0),"
   ]
  },
  {
   "cell_type": "code",
   "execution_count": 32,
   "metadata": {},
   "outputs": [
    {
     "data": {
      "text/html": [
       "<div>\n",
       "<style scoped>\n",
       "    .dataframe tbody tr th:only-of-type {\n",
       "        vertical-align: middle;\n",
       "    }\n",
       "\n",
       "    .dataframe tbody tr th {\n",
       "        vertical-align: top;\n",
       "    }\n",
       "\n",
       "    .dataframe thead th {\n",
       "        text-align: right;\n",
       "    }\n",
       "</style>\n",
       "<table border=\"1\" class=\"dataframe\">\n",
       "  <thead>\n",
       "    <tr style=\"text-align: right;\">\n",
       "      <th>data2_expression</th>\n",
       "      <th>Down regulated</th>\n",
       "      <th>Not differentially expressed</th>\n",
       "      <th>Up regulated</th>\n",
       "    </tr>\n",
       "    <tr>\n",
       "      <th>data1_expression</th>\n",
       "      <th></th>\n",
       "      <th></th>\n",
       "      <th></th>\n",
       "    </tr>\n",
       "  </thead>\n",
       "  <tbody>\n",
       "    <tr>\n",
       "      <th>Down regulated</th>\n",
       "      <td>834</td>\n",
       "      <td>1048</td>\n",
       "      <td>82</td>\n",
       "    </tr>\n",
       "    <tr>\n",
       "      <th>Not differentially expressed</th>\n",
       "      <td>6850</td>\n",
       "      <td>35307</td>\n",
       "      <td>5292</td>\n",
       "    </tr>\n",
       "    <tr>\n",
       "      <th>Up regulated</th>\n",
       "      <td>47</td>\n",
       "      <td>792</td>\n",
       "      <td>415</td>\n",
       "    </tr>\n",
       "  </tbody>\n",
       "</table>\n",
       "</div>"
      ],
      "text/plain": [
       "data2_expression              Down regulated  Not differentially expressed  \\\n",
       "data1_expression                                                             \n",
       "Down regulated                           834                          1048   \n",
       "Not differentially expressed            6850                         35307   \n",
       "Up regulated                              47                           792   \n",
       "\n",
       "data2_expression              Up regulated  \n",
       "data1_expression                            \n",
       "Down regulated                          82  \n",
       "Not differentially expressed          5292  \n",
       "Up regulated                           415  "
      ]
     },
     "execution_count": 32,
     "metadata": {},
     "output_type": "execute_result"
    }
   ],
   "source": [
    "compare[0]"
   ]
  },
  {
   "cell_type": "code",
   "execution_count": 42,
   "metadata": {},
   "outputs": [
    {
     "data": {
      "text/plain": [
       "<AxesSubplot:xlabel='data2_expression', ylabel='data1_expression'>"
      ]
     },
     "execution_count": 42,
     "metadata": {},
     "output_type": "execute_result"
    },
    {
     "data": {
      "image/png": "[encoded data removed]",
      "text/plain": [
       "<Figure size 1080x1080 with 2 Axes>"
      ]
     },
     "metadata": {
      "needs_background": "light"
     },
     "output_type": "display_data"
    }
   ],
   "source": [
    "sns.heatmap(compare[0].applymap(np.log10), annot=True)"
   ]
  },
  {
   "cell_type": "code",
   "execution_count": 35,
   "metadata": {},
   "outputs": [],
   "source": [
    "pvalue = 0.05\n",
    "logFC = 0\n",
    "data1 = pd.read_csv(input_1)\n",
    "data1.loc[(data1[\"Log FC\"]>logFC), \"expression\"]= \"Down regulated\"\n",
    "data1.loc[(data1[\"Log FC\"]< -1*logFC), \"expression\"]= \"Up regulated\"\n",
    "data1 = data1.rename(columns={\"P.Value\":\"data1_P.Value\",\"Log FC\":\"data1_Log FC\",\"expression\":\"data1_expression\"})\n",
    "\n",
    "\n",
    "\n",
    "data2 = pd.read_csv(input_2)\n",
    "data2.loc[(data2[\"Log FC\"]>logFC), \"expression\"]= \"Down regulated\"\n",
    "data2.loc[(data2[\"Log FC\"]< -1*logFC), \"expression\"]= \"Up regulated\"\n",
    "data2 = data2.rename(columns={\"P.Value\":\"data2_P.Value\",\"Log FC\":\"data2_Log FC\",\"expression\":\"data2_expression\"})"
   ]
  },
  {
   "cell_type": "code",
   "execution_count": 36,
   "metadata": {},
   "outputs": [],
   "source": [
    "merged_data = data1.merge(data2, on=\"Gene\")\n",
    "# merged_data.to_csv(\"Merged.csv\", index=False)\n",
    "compare = merged_data.groupby([\"data1_expression\", \"data2_expression\"]).size().reset_index().pivot_table(index=\"data1_expression\", columns=\"data2_expression\", values=0),"
   ]
  },
  {
   "cell_type": "code",
   "execution_count": 39,
   "metadata": {},
   "outputs": [
    {
     "data": {
      "text/plain": [
       "<AxesSubplot:xlabel='data2_expression', ylabel='data1_expression'>"
      ]
     },
     "execution_count": 39,
     "metadata": {},
     "output_type": "execute_result"
    },
    {
     "data": {
      "image/png": "[encoded data removed]",
      "text/plain": [
       "<Figure size 432x288 with 2 Axes>"
      ]
     },
     "metadata": {
      "needs_background": "light"
     },
     "output_type": "display_data"
    }
   ],
   "source": [
    "sns.heatmap(compare[0], annot=True)"
   ]
  },
  {
   "cell_type": "code",
   "execution_count": null,
   "metadata": {},
   "outputs": [],
   "source": []
  }
 ],
 "metadata": {
  "celltoolbar": "Initialization Cell",
  "kernelspec": {
   "display_name": "Python 3",
   "language": "python",
   "name": "python3"
  },
  "language_info": {
   "codemirror_mode": {
    "name": "ipython",
    "version": 3
   },
   "file_extension": ".py",
   "mimetype": "text/x-python",
   "name": "python",
   "nbconvert_exporter": "python",
   "pygments_lexer": "ipython3",
   "version": "3.7.4"
  }
 },
 "nbformat": 4,
 "nbformat_minor": 2
}
